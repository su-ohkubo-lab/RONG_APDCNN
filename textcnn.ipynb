{
 "cells": [
  {
   "cell_type": "markdown",
   "metadata": {},
   "source": [
    "# Data collection"
   ]
  },
  {
   "cell_type": "code",
   "execution_count": 1,
   "metadata": {},
   "outputs": [],
   "source": [
    "import warnings\n",
    "warnings.filterwarnings(\"ignore\")"
   ]
  },
  {
   "cell_type": "code",
   "execution_count": 2,
   "metadata": {},
   "outputs": [],
   "source": [
    "import pandas as pd\n",
    "df=pd.read_csv(\"labeledTrainData.tsv\",sep=\"\\t\")\n",
    "\n",
    "df.columns=[\"i\",\"category\",\"content\"]\n",
    "\n",
    "df=df.dropna(subset=[\"category\",\"content\"])\n",
    "\n",
    "from nltk import word_tokenize     ##tokenize words according to spaces\n",
    "\n",
    "\n",
    "df[\"category\"].value_counts()\n",
    "\n",
    "num_classes = len(df[\"category\"].unique())"
   ]
  },
  {
   "cell_type": "code",
   "execution_count": 3,
   "metadata": {},
   "outputs": [
    {
     "data": {
      "text/html": [
       "<div>\n",
       "<style scoped>\n",
       "    .dataframe tbody tr th:only-of-type {\n",
       "        vertical-align: middle;\n",
       "    }\n",
       "\n",
       "    .dataframe tbody tr th {\n",
       "        vertical-align: top;\n",
       "    }\n",
       "\n",
       "    .dataframe thead th {\n",
       "        text-align: right;\n",
       "    }\n",
       "</style>\n",
       "<table border=\"1\" class=\"dataframe\">\n",
       "  <thead>\n",
       "    <tr style=\"text-align: right;\">\n",
       "      <th></th>\n",
       "      <th>i</th>\n",
       "      <th>category</th>\n",
       "      <th>content</th>\n",
       "    </tr>\n",
       "  </thead>\n",
       "  <tbody>\n",
       "    <tr>\n",
       "      <th>0</th>\n",
       "      <td>5814_8</td>\n",
       "      <td>1</td>\n",
       "      <td>With all this stuff going down at the moment w...</td>\n",
       "    </tr>\n",
       "    <tr>\n",
       "      <th>1</th>\n",
       "      <td>2381_9</td>\n",
       "      <td>1</td>\n",
       "      <td>\\The Classic War of the Worlds\\\" by Timothy Hi...</td>\n",
       "    </tr>\n",
       "    <tr>\n",
       "      <th>2</th>\n",
       "      <td>7759_3</td>\n",
       "      <td>0</td>\n",
       "      <td>The film starts with a manager (Nicholas Bell)...</td>\n",
       "    </tr>\n",
       "    <tr>\n",
       "      <th>3</th>\n",
       "      <td>3630_4</td>\n",
       "      <td>0</td>\n",
       "      <td>It must be assumed that those who praised this...</td>\n",
       "    </tr>\n",
       "    <tr>\n",
       "      <th>4</th>\n",
       "      <td>9495_8</td>\n",
       "      <td>1</td>\n",
       "      <td>Superbly trashy and wondrously unpretentious 8...</td>\n",
       "    </tr>\n",
       "    <tr>\n",
       "      <th>...</th>\n",
       "      <td>...</td>\n",
       "      <td>...</td>\n",
       "      <td>...</td>\n",
       "    </tr>\n",
       "    <tr>\n",
       "      <th>24995</th>\n",
       "      <td>3453_3</td>\n",
       "      <td>0</td>\n",
       "      <td>It seems like more consideration has gone into...</td>\n",
       "    </tr>\n",
       "    <tr>\n",
       "      <th>24996</th>\n",
       "      <td>5064_1</td>\n",
       "      <td>0</td>\n",
       "      <td>I don't believe they made this film. Completel...</td>\n",
       "    </tr>\n",
       "    <tr>\n",
       "      <th>24997</th>\n",
       "      <td>10905_3</td>\n",
       "      <td>0</td>\n",
       "      <td>Guy is a loser. Can't get girls, needs to buil...</td>\n",
       "    </tr>\n",
       "    <tr>\n",
       "      <th>24998</th>\n",
       "      <td>10194_3</td>\n",
       "      <td>0</td>\n",
       "      <td>This 30 minute documentary Buñuel made in the ...</td>\n",
       "    </tr>\n",
       "    <tr>\n",
       "      <th>24999</th>\n",
       "      <td>8478_8</td>\n",
       "      <td>1</td>\n",
       "      <td>I saw this movie as a child and it broke my he...</td>\n",
       "    </tr>\n",
       "  </tbody>\n",
       "</table>\n",
       "<p>25000 rows × 3 columns</p>\n",
       "</div>"
      ],
      "text/plain": [
       "             i  category                                            content\n",
       "0       5814_8         1  With all this stuff going down at the moment w...\n",
       "1       2381_9         1  \\The Classic War of the Worlds\\\" by Timothy Hi...\n",
       "2       7759_3         0  The film starts with a manager (Nicholas Bell)...\n",
       "3       3630_4         0  It must be assumed that those who praised this...\n",
       "4       9495_8         1  Superbly trashy and wondrously unpretentious 8...\n",
       "...        ...       ...                                                ...\n",
       "24995   3453_3         0  It seems like more consideration has gone into...\n",
       "24996   5064_1         0  I don't believe they made this film. Completel...\n",
       "24997  10905_3         0  Guy is a loser. Can't get girls, needs to buil...\n",
       "24998  10194_3         0  This 30 minute documentary Buñuel made in the ...\n",
       "24999   8478_8         1  I saw this movie as a child and it broke my he...\n",
       "\n",
       "[25000 rows x 3 columns]"
      ]
     },
     "execution_count": 3,
     "metadata": {},
     "output_type": "execute_result"
    }
   ],
   "source": [
    "df"
   ]
  },
  {
   "cell_type": "markdown",
   "metadata": {},
   "source": [
    "# Tokenize："
   ]
  },
  {
   "cell_type": "code",
   "execution_count": 4,
   "metadata": {},
   "outputs": [],
   "source": [
    "import jieba\n",
    "sentence=[i.split(\" \") for i in df[\"content\"]]"
   ]
  },
  {
   "cell_type": "code",
   "execution_count": 5,
   "metadata": {},
   "outputs": [
    {
     "data": {
      "text/plain": [
       "['\\\\The',\n",
       " 'Classic',\n",
       " 'War',\n",
       " 'of',\n",
       " 'the',\n",
       " 'Worlds\\\\\"',\n",
       " 'by',\n",
       " 'Timothy',\n",
       " 'Hines',\n",
       " 'is',\n",
       " 'a',\n",
       " 'very',\n",
       " 'entertaining',\n",
       " 'film',\n",
       " 'that',\n",
       " 'obviously',\n",
       " 'goes',\n",
       " 'to',\n",
       " 'great',\n",
       " 'effort',\n",
       " 'and',\n",
       " 'lengths',\n",
       " 'to',\n",
       " 'faithfully',\n",
       " 'recreate',\n",
       " 'H.',\n",
       " 'G.',\n",
       " \"Wells'\",\n",
       " 'classic',\n",
       " 'book.',\n",
       " 'Mr.',\n",
       " 'Hines',\n",
       " 'succeeds',\n",
       " 'in',\n",
       " 'doing',\n",
       " 'so.',\n",
       " 'I,',\n",
       " 'and',\n",
       " 'those',\n",
       " 'who',\n",
       " 'watched',\n",
       " 'his',\n",
       " 'film',\n",
       " 'with',\n",
       " 'me,',\n",
       " 'appreciated',\n",
       " 'the',\n",
       " 'fact',\n",
       " 'that',\n",
       " 'it',\n",
       " 'was',\n",
       " 'not',\n",
       " 'the',\n",
       " 'standard,',\n",
       " 'predictable',\n",
       " 'Hollywood',\n",
       " 'fare',\n",
       " 'that',\n",
       " 'comes',\n",
       " 'out',\n",
       " 'every',\n",
       " 'year,',\n",
       " 'e.g.',\n",
       " 'the',\n",
       " 'Spielberg',\n",
       " 'version',\n",
       " 'with',\n",
       " 'Tom',\n",
       " 'Cruise',\n",
       " 'that',\n",
       " 'had',\n",
       " 'only',\n",
       " 'the',\n",
       " 'slightest',\n",
       " 'resemblance',\n",
       " 'to',\n",
       " 'the',\n",
       " 'book.',\n",
       " 'Obviously,',\n",
       " 'everyone',\n",
       " 'looks',\n",
       " 'for',\n",
       " 'different',\n",
       " 'things',\n",
       " 'in',\n",
       " 'a',\n",
       " 'movie.',\n",
       " 'Those',\n",
       " 'who',\n",
       " 'envision',\n",
       " 'themselves',\n",
       " 'as',\n",
       " 'amateur',\n",
       " '\\\\\"critics\\\\\"',\n",
       " 'look',\n",
       " 'only',\n",
       " 'to',\n",
       " 'criticize',\n",
       " 'everything',\n",
       " 'they',\n",
       " 'can.',\n",
       " 'Others',\n",
       " 'rate',\n",
       " 'a',\n",
       " 'movie',\n",
       " 'on',\n",
       " 'more',\n",
       " 'important',\n",
       " 'bases,like',\n",
       " 'being',\n",
       " 'entertained,',\n",
       " 'which',\n",
       " 'is',\n",
       " 'why',\n",
       " 'most',\n",
       " 'people',\n",
       " 'never',\n",
       " 'agree',\n",
       " 'with',\n",
       " 'the',\n",
       " '\\\\\"critics\\\\\".',\n",
       " 'We',\n",
       " 'enjoyed',\n",
       " 'the',\n",
       " 'effort',\n",
       " 'Mr.',\n",
       " 'Hines',\n",
       " 'put',\n",
       " 'into',\n",
       " 'being',\n",
       " 'faithful',\n",
       " 'to',\n",
       " 'H.G.',\n",
       " \"Wells'\",\n",
       " 'classic',\n",
       " 'novel,',\n",
       " 'and',\n",
       " 'we',\n",
       " 'found',\n",
       " 'it',\n",
       " 'to',\n",
       " 'be',\n",
       " 'very',\n",
       " 'entertaining.',\n",
       " 'This',\n",
       " 'made',\n",
       " 'it',\n",
       " 'easy',\n",
       " 'to',\n",
       " 'overlook',\n",
       " 'what',\n",
       " 'the',\n",
       " '\\\\\"critics\\\\\"',\n",
       " 'perceive',\n",
       " 'to',\n",
       " 'be',\n",
       " 'its',\n",
       " 'shortcomings.\"']"
      ]
     },
     "execution_count": 5,
     "metadata": {},
     "output_type": "execute_result"
    }
   ],
   "source": [
    "sentence[1]"
   ]
  },
  {
   "cell_type": "markdown",
   "metadata": {},
   "source": [
    "# Training word embedding with embedding size 128 and 10 epochs\n"
   ]
  },
  {
   "cell_type": "code",
   "execution_count": 6,
   "metadata": {},
   "outputs": [],
   "source": [
    "import pandas as pd\n",
    "import gensim\n",
    "# w2v_model = gensim.models.Word2Vec(sentence, size=128, iter=10, min_count=0)\n",
    "# word_vectors = w2v_model.wv\n",
    "# w2v_model.save(\"w2v\")\n",
    "#w2v_model=gensim.models.Word2Vec.load(\"GoogleNews-vectors-negative300.bin\")\n",
    "w2v_model=gensim.models.Word2Vec.load(\"w2v\")\n",
    "#w2v_model = gensim.models.KeyedVectors.load_word2vec_format('./GoogleNews-vectors-negative300.bin', binary=True)"
   ]
  },
  {
   "cell_type": "code",
   "execution_count": 7,
   "metadata": {},
   "outputs": [
    {
     "name": "stderr",
     "output_type": "stream",
     "text": [
      "Using TensorFlow backend.\n"
     ]
    }
   ],
   "source": [
    "from keras.layers import *\n",
    "import numpy as np\n",
    "from keras.callbacks import EarlyStopping, ModelCheckpoint\n",
    "from keras.layers.merge import concatenate\n",
    "from keras.layers.embeddings import Embedding\n",
    "from keras.layers.normalization import BatchNormalization\n",
    "from keras.models import Model\n",
    "from keras import backend as K\n",
    "from keras.preprocessing.sequence import pad_sequences\n",
    "from keras.preprocessing.text import Tokenizer\n",
    "from sklearn.model_selection import StratifiedKFold\n",
    "from keras.utils.np_utils import to_categorical\n",
    "from sklearn.metrics import f1_score, classification_report\n",
    "from sklearn.model_selection import train_test_split\n",
    "import tensorflow as tf"
   ]
  },
  {
   "cell_type": "markdown",
   "metadata": {},
   "source": [
    "# Vectorize the texts, transfer label into onehot, pad zeros"
   ]
  },
  {
   "cell_type": "code",
   "execution_count": 8,
   "metadata": {},
   "outputs": [
    {
     "name": "stdout",
     "output_type": "stream",
     "text": [
      "Found 88582 unique tokens.\n"
     ]
    }
   ],
   "source": [
    "content=[]\n",
    "for j in sentence:\n",
    "    content+=j\n",
    "\n",
    "tokenizer = Tokenizer()\n",
    "tokenizer.fit_on_texts(content)\n",
    "train_sequence = tokenizer.texts_to_sequences(sentence)#Vectorize the texts, transfer label into onehot, pad zeros\n",
    "MAX_SEQUENCE_LENGTH=128 #Maximum length of a sentence\n",
    "EMBEDDING_DIM = 128 \n",
    "y_train =df[\"category\"]\n",
    "y_train = to_categorical(y_train)  \n",
    "y_train = y_train.astype(np.int32)\n",
    "word_index = tokenizer.word_index\n",
    "print('Found %s unique tokens.' % len(word_index))\n",
    "train_pad = pad_sequences(train_sequence, maxlen=MAX_SEQUENCE_LENGTH) #pad zeros according to Maximum length"
   ]
  },
  {
   "cell_type": "code",
   "execution_count": 9,
   "metadata": {},
   "outputs": [
    {
     "data": {
      "text/plain": [
       "True"
      ]
     },
     "execution_count": 9,
     "metadata": {},
     "output_type": "execute_result"
    }
   ],
   "source": [
    "tf.test.is_gpu_available()"
   ]
  },
  {
   "cell_type": "markdown",
   "metadata": {},
   "source": [
    "# Count which vector each word should correspond to"
   ]
  },
  {
   "cell_type": "code",
   "execution_count": 10,
   "metadata": {},
   "outputs": [],
   "source": [
    "embedding_matrix = np.zeros((len(word_index) + 1, EMBEDDING_DIM), dtype=np.float32)\n",
    "not_in_model = 0\n",
    "in_model = 0\n",
    "embedding_max_value = 0\n",
    "embedding_min_value = 1\n",
    "not_words = []\n",
    "\n",
    "for word, i in word_index.items():\n",
    "    if word in w2v_model:\n",
    "        in_model += 1\n",
    "        embedding_matrix[i] = np.array(w2v_model[word])\n",
    "        embedding_max_value = max(np.max(embedding_matrix[i]), embedding_max_value)\n",
    "        embedding_min_value = min(np.min(embedding_matrix[i]), embedding_min_value)\n",
    "    else:\n",
    "        not_in_model += 1\n",
    "        not_words.append(word)"
   ]
  },
  {
   "cell_type": "markdown",
   "metadata": {},
   "source": [
    "# Define a embedding layer"
   ]
  },
  {
   "cell_type": "code",
   "execution_count": 11,
   "metadata": {},
   "outputs": [],
   "source": [
    "embed = Embedding(len(word_index) + 1, EMBEDDING_DIM, weights=[embedding_matrix], input_length=MAX_SEQUENCE_LENGTH,\n",
    "\t\t\t\t  trainable=True) "
   ]
  },
  {
   "cell_type": "markdown",
   "metadata": {},
   "source": [
    "# Divide the data for training and validation"
   ]
  },
  {
   "cell_type": "code",
   "execution_count": 12,
   "metadata": {},
   "outputs": [],
   "source": [
    "train_data, val_data, train_y, val_y = train_test_split(train_pad, y_train, test_size=0.2, random_state=43)"
   ]
  },
  {
   "cell_type": "markdown",
   "metadata": {},
   "source": [
    "# textcnn模型"
   ]
  },
  {
   "cell_type": "code",
   "execution_count": 13,
   "metadata": {},
   "outputs": [
    {
     "name": "stdout",
     "output_type": "stream",
     "text": [
      "WARNING:tensorflow:From /home/rongyunpeng/Downloads/ENTER/envs/py3.6/lib/python3.6/site-packages/tensorflow/python/framework/op_def_library.py:263: colocate_with (from tensorflow.python.framework.ops) is deprecated and will be removed in a future version.\n",
      "Instructions for updating:\n",
      "Colocations handled automatically by placer.\n",
      "WARNING:tensorflow:From /home/rongyunpeng/Downloads/ENTER/envs/py3.6/lib/python3.6/site-packages/keras/backend/tensorflow_backend.py:3445: calling dropout (from tensorflow.python.ops.nn_ops) with keep_prob is deprecated and will be removed in a future version.\n",
      "Instructions for updating:\n",
      "Please use `rate` instead of `keep_prob`. Rate should be set to `rate = 1 - keep_prob`.\n",
      "__________________________________________________________________________________________________\n",
      "Layer (type)                    Output Shape         Param #     Connected to                     \n",
      "==================================================================================================\n",
      "input_1 (InputLayer)            (None, 128)          0                                            \n",
      "__________________________________________________________________________________________________\n",
      "embedding_2 (Embedding)         (None, 128, 128)     11338496    input_1[0][0]                    \n",
      "__________________________________________________________________________________________________\n",
      "reshape_1 (Reshape)             (None, 128, 128, 1)  0           embedding_2[0][0]                \n",
      "__________________________________________________________________________________________________\n",
      "conv2d_1 (Conv2D)               (None, 126, 1, 100)  38500       reshape_1[0][0]                  \n",
      "__________________________________________________________________________________________________\n",
      "conv2d_2 (Conv2D)               (None, 125, 1, 100)  51300       reshape_1[0][0]                  \n",
      "__________________________________________________________________________________________________\n",
      "conv2d_3 (Conv2D)               (None, 124, 1, 100)  64100       reshape_1[0][0]                  \n",
      "__________________________________________________________________________________________________\n",
      "max_pooling2d_1 (MaxPooling2D)  (None, 1, 1, 100)    0           conv2d_1[0][0]                   \n",
      "__________________________________________________________________________________________________\n",
      "max_pooling2d_2 (MaxPooling2D)  (None, 1, 1, 100)    0           conv2d_2[0][0]                   \n",
      "__________________________________________________________________________________________________\n",
      "max_pooling2d_3 (MaxPooling2D)  (None, 1, 1, 100)    0           conv2d_3[0][0]                   \n",
      "__________________________________________________________________________________________________\n",
      "concatenate_1 (Concatenate)     (None, 1, 1, 300)    0           max_pooling2d_1[0][0]            \n",
      "                                                                 max_pooling2d_2[0][0]            \n",
      "                                                                 max_pooling2d_3[0][0]            \n",
      "__________________________________________________________________________________________________\n",
      "flatten_1 (Flatten)             (None, 300)          0           concatenate_1[0][0]              \n",
      "__________________________________________________________________________________________________\n",
      "dropout_1 (Dropout)             (None, 300)          0           flatten_1[0][0]                  \n",
      "__________________________________________________________________________________________________\n",
      "dense_1 (Dense)                 (None, 2)            602         dropout_1[0][0]                  \n",
      "==================================================================================================\n",
      "Total params: 11,492,998\n",
      "Trainable params: 11,492,998\n",
      "Non-trainable params: 0\n",
      "__________________________________________________________________________________________________\n"
     ]
    }
   ],
   "source": [
    "def TextCNN(sequence_length=128, num_classes=2, vocab_size=len(word_index), embedding_size=128, filter_sizes=[3,4,5], num_filters=100, dropout_keep_prob = 0.5, l2_reg_lambda=0.0):\n",
    "    # input layer\n",
    "    input_chars = Input(shape=(sequence_length,))\n",
    "    \n",
    "    # embedding layers\n",
    "    embedded_chars = Embedding(vocab_size, embedding_size)(input_chars)\n",
    "    embedded_chars_expanded = Reshape((sequence_length, embedding_size, 1))(embedded_chars)\n",
    "    \n",
    "    # conv layers\n",
    "    convs = []\n",
    "    for filter_size in filter_sizes:\n",
    "        conv = Conv2D(num_filters, (filter_size, embedding_size), activation=\"relu\")(embedded_chars_expanded)\n",
    "        max_pool = MaxPooling2D((sequence_length - filter_size + 1, 1))(conv)\n",
    "        convs.append(max_pool)\n",
    "        \n",
    "    # combine all the pooled features\n",
    "    merge = concatenate(convs)\n",
    "    fla=Flatten()(merge)\n",
    "    #merge = Reshape((-1, 300))(merge)\n",
    "    \n",
    "    # add dropout\n",
    "    merge_dropout = Dropout(dropout_keep_prob)(fla)\n",
    "    \n",
    "    dense = Dense(num_classes, activation='softmax', kernel_regularizer=regularizers.l2(l2_reg_lambda))(merge_dropout)\n",
    "    model = Model(input_chars, dense) \n",
    "    model.compile(loss='categorical_crossentropy',\n",
    "                  optimizer='adam',\n",
    "                  metrics=['accuracy'])\n",
    "    return model\n",
    "model = TextCNN()\n",
    "model.summary()"
   ]
  },
  {
   "cell_type": "markdown",
   "metadata": {
    "scrolled": true
   },
   "source": [
    "embed = Embedding(len(word_index) + 1, EMBEDDING_DIM, weights=[embedding_matrix], input_length=MAX_SEQUENCE_LENGTH,\n",
    "\t\t\t\t  trainable=True)  \n",
    "def get_cnnmodel(embedding, class_num=3):\n",
    "    inputs_sentence = Input(shape=(MAX_SEQUENCE_LENGTH,))\n",
    "    sentence =(embedding(inputs_sentence))\n",
    "    con1=Conv1D(128, 3, padding='same', activation='relu')(sentence)\n",
    "    maxp1=MaxPooling1D(3, 3, padding='same')(con1)\n",
    "    con2=Conv1D(128, 4, padding='same', activation='relu')(sentence)\n",
    "    maxp2=MaxPooling1D(3, 3, padding='same')(con2)\n",
    "    con3=Conv1D(128, 5, padding='same', activation='relu')(sentence)\n",
    "    maxp3=MaxPooling1D(3, 3, padding='same')(con3)\n",
    "    \n",
    "    allvec=concatenate([maxp1,maxp2,maxp3],axis=-1)\n",
    "    \n",
    "    fla=Flatten()(allvec)\n",
    "    drop=Dropout(0.1)(fla)\n",
    "    #bn=BatchNormalization()(drop)\n",
    "    ds=Dense(256)(drop)\n",
    "    dp=Dropout(0.1)(ds)\n",
    "    output = Dense(2, activation='softmax')(ds)#softmax层\n",
    "    model = Model(inputs=[inputs_sentence], outputs=output)\n",
    "    model.compile(loss='categorical_crossentropy', optimizer='adam', metrics=['accuracy'])\n",
    "    model.summary()\n",
    "    return model\n",
    "model = get_cnnmodel(embed)"
   ]
  },
  {
   "cell_type": "code",
   "execution_count": 18,
   "metadata": {
    "scrolled": true
   },
   "outputs": [
    {
     "name": "stdout",
     "output_type": "stream",
     "text": [
      "Train on 20000 samples, validate on 5000 samples\n",
      "Epoch 1/50\n",
      "20000/20000 [==============================] - 2s 115us/step - loss: 0.0834 - acc: 0.9722 - val_loss: 0.5453 - val_acc: 0.8204\n",
      "Epoch 2/50\n",
      "20000/20000 [==============================] - 2s 106us/step - loss: 0.0338 - acc: 0.9890 - val_loss: 0.6392 - val_acc: 0.8214\n",
      "Epoch 3/50\n",
      "20000/20000 [==============================] - 2s 117us/step - loss: 0.0099 - acc: 0.9978 - val_loss: 0.7200 - val_acc: 0.8222\n",
      "Epoch 4/50\n",
      "20000/20000 [==============================] - 2s 121us/step - loss: 0.0039 - acc: 0.9994 - val_loss: 0.7746 - val_acc: 0.8218\n",
      "Epoch 5/50\n",
      "20000/20000 [==============================] - 2s 123us/step - loss: 0.0022 - acc: 0.9998 - val_loss: 0.8200 - val_acc: 0.8202\n",
      "Epoch 6/50\n",
      "20000/20000 [==============================] - 2s 120us/step - loss: 0.0012 - acc: 1.0000 - val_loss: 0.8461 - val_acc: 0.8204\n",
      "Epoch 7/50\n",
      "20000/20000 [==============================] - 2s 121us/step - loss: 0.0013 - acc: 0.9997 - val_loss: 0.8566 - val_acc: 0.8174\n",
      "Epoch 8/50\n",
      "20000/20000 [==============================] - 2s 123us/step - loss: 0.0010 - acc: 0.9998 - val_loss: 0.8945 - val_acc: 0.8176\n",
      "Epoch 9/50\n",
      "20000/20000 [==============================] - 2s 123us/step - loss: 6.0132e-04 - acc: 1.0000 - val_loss: 0.9047 - val_acc: 0.8180\n",
      "Epoch 10/50\n",
      "20000/20000 [==============================] - 2s 123us/step - loss: 4.0083e-04 - acc: 1.0000 - val_loss: 0.9226 - val_acc: 0.8180\n",
      "Epoch 11/50\n",
      "20000/20000 [==============================] - 2s 123us/step - loss: 6.0509e-04 - acc: 0.9999 - val_loss: 0.9468 - val_acc: 0.8146\n",
      "Epoch 12/50\n",
      "20000/20000 [==============================] - 2s 123us/step - loss: 4.7605e-04 - acc: 0.9999 - val_loss: 0.9771 - val_acc: 0.8150\n",
      "Epoch 13/50\n",
      "20000/20000 [==============================] - 2s 123us/step - loss: 2.1979e-04 - acc: 1.0000 - val_loss: 0.9863 - val_acc: 0.8156\n",
      "0:00:31.473819\n"
     ]
    }
   ],
   "source": [
    "import datetime\n",
    "starttime = datetime.datetime.now()\n",
    "\n",
    "callbacks = [EarlyStopping(monitor='val_acc', min_delta=0.001, patience=10),\n",
    "\t\t\t ModelCheckpoint(\"model/textcnn.hdf5\", monitor='val_acc',\n",
    "\t\t\t\t\t\t\t mode='max', verbose=0, save_best_only=True,save_weights_only=True)]   \n",
    "\n",
    "history = model.fit(train_data, train_y, batch_size=128, epochs=50,validation_data=(val_data,val_y),callbacks=callbacks)\n",
    "\n",
    "endtime = datetime.datetime.now()\n",
    "print (endtime - starttime)"
   ]
  },
  {
   "cell_type": "code",
   "execution_count": 19,
   "metadata": {},
   "outputs": [
    {
     "data": {
      "image/png": "[encoded data removed]",
      "text/plain": [
       "<Figure size 432x288 with 1 Axes>"
      ]
     },
     "metadata": {},
     "output_type": "display_data"
    },
    {
     "data": {
      "image/png": "[encoded data removed]",
      "text/plain": [
       "<Figure size 432x288 with 1 Axes>"
      ]
     },
     "metadata": {},
     "output_type": "display_data"
    }
   ],
   "source": [
    "import matplotlib.pyplot as plt\n",
    "val_loss = history.history['val_loss']\n",
    "loss = history.history['loss']\n",
    "epochs = range(1, len(loss ) + 1)\n",
    "plt.title('Loss')\n",
    "plt.plot(epochs, loss, 'red', label='Training loss')\n",
    "plt.plot(epochs, val_loss, 'blue', label='Validation loss')\n",
    "plt.legend()\n",
    "plt.show()\n",
    "\n",
    "plt.cla()\n",
    "val_loss = history.history['val_acc']\n",
    "loss = history.history['acc']\n",
    "epochs = range(1, len(loss ) + 1)\n",
    " \n",
    "plt.title('acc')\n",
    "plt.plot(epochs, loss, 'red', label='Training acc')\n",
    "plt.plot(epochs, val_loss, 'blue', label='Validation acc')\n",
    "plt.legend()\n",
    "plt.show()"
   ]
  },
  {
   "cell_type": "code",
   "execution_count": 20,
   "metadata": {},
   "outputs": [
    {
     "name": "stdout",
     "output_type": "stream",
     "text": [
      "[[2111  432]\n",
      " [ 457 2000]]\n",
      "              precision    recall  f1-score   support\n",
      "\n",
      "           0     0.8220    0.8301    0.8261      2543\n",
      "           1     0.8224    0.8140    0.8182      2457\n",
      "\n",
      "    accuracy                         0.8222      5000\n",
      "   macro avg     0.8222    0.8221    0.8221      5000\n",
      "weighted avg     0.8222    0.8222    0.8222      5000\n",
      "\n"
     ]
    },
    {
     "data": {
      "image/png": "[encoded data removed]",
      "text/plain": [
       "<Figure size 432x288 with 2 Axes>"
      ]
     },
     "metadata": {},
     "output_type": "display_data"
    }
   ],
   "source": [
    "model.load_weights(\"model/textcnn.hdf5\")\n",
    "def 给测试集输出指标(val_data,test_y):\n",
    "    testpre=model.predict([val_data])\n",
    "    ypre=np.argmax(testpre,axis=1)\n",
    "    ytrue=np.argmax(test_y,axis=1)\n",
    "\n",
    "\n",
    "    import seaborn as sns\n",
    "    from sklearn.metrics import confusion_matrix\n",
    "    import matplotlib.pyplot as plt\n",
    "    from sklearn.metrics import classification_report\n",
    "    def 混淆矩阵(valp,valy):\n",
    "        sns.set()\n",
    "        np.set_printoptions(suppress=True)\n",
    "        f,ax=plt.subplots()\n",
    "        valp=np.array(valp)\n",
    "        valy=np.array(valy)\n",
    "        C2= confusion_matrix(valy , valp, labels=list(range(len(set(df[\"category\"])))))\n",
    "        print(C2) #打印出来看看\n",
    "        sns.heatmap(C2,annot=True,ax=ax,fmt='.20g') #画热力图\n",
    "\n",
    "        ax.set_title('confusion matrix') #标题\n",
    "        ax.set_xlabel('predict') #x轴\n",
    "        ax.set_ylabel('true') #y轴\n",
    "\n",
    "    def 评价指标(val_data,val_y):\n",
    "        混淆矩阵(val_data,val_y)\n",
    "        print(classification_report(val_y,val_data,digits=4))\n",
    "    评价指标(ypre,ytrue)\n",
    "给测试集输出指标(val_data,val_y)"
   ]
  },
  {
   "cell_type": "code",
   "execution_count": 17,
   "metadata": {},
   "outputs": [
    {
     "data": {
      "text/plain": [
       "array([[0.1853644, 0.8146356]], dtype=float32)"
      ]
     },
     "execution_count": 17,
     "metadata": {},
     "output_type": "execute_result"
    }
   ],
   "source": [
    "model.load_weights(\"model/textcnn.hdf5\")\n",
    "test_text = [\"The acting was simply amazing, what else could you say. What could be more appealing to people(even today) than watching actors like Al Pacino, Marlon Brando, James Caan, Diane Keaton, Talia Shire and Robert Duvall. This is like heaven for someone who is a fan of movies. With this movie Brando was able to bring himself back into the limelight. His performance as the godfather alone is iconic. His character has been recreated so much in films that it has almost if it has not already become a cliché. His performance though was not a cliché. His performance was subtle and breathtaking. It was so genuine and realistic that it was not just probably but definitely more genuine than Marlon Brando himself. Al Pacino was perfect for this film as well. What a way to start up your career. His character was all about depth and he displayed it perfectly. He was able to display his own inner-battles in his mind as well as the battles he had with his family, friends and enemies. His character was more of a psychological character study than anything else to me. Robert Duvall to me was the glue to the movie. He added a different perspective to everything in just that he was not Italian yet having the respect of the mafia. His character is a man of high authority within the Corleone family who was listened to and insightful;. This was simply perfect giving the film great balance throughout. The rest of the cast was just icing on the cake.\"]\n",
    "test_text = [\"I hate this film\"]\n",
    "\n",
    "test_sequence = tokenizer.texts_to_sequences(test_text)\n",
    "test_pad = pad_sequences(test_sequence, maxlen=MAX_SEQUENCE_LENGTH)\n",
    "predictions = model.predict(test_pad)\n",
    "predictions\n",
    "\n",
    "#a = [[int(i)] for i in val_data[222]]\n",
    "#print(tokenizer.sequences_to_texts(a))\n",
    "#print(predictions[222])"
   ]
  },
  {
   "cell_type": "code",
   "execution_count": null,
   "metadata": {},
   "outputs": [],
   "source": []
  }
 ],
 "metadata": {
  "kernelspec": {
   "display_name": "Python 3",
   "language": "python",
   "name": "python3"
  },
  "language_info": {
   "codemirror_mode": {
    "name": "ipython",
    "version": 3
   },
   "file_extension": ".py",
   "mimetype": "text/x-python",
   "name": "python",
   "nbconvert_exporter": "python",
   "pygments_lexer": "ipython3",
   "version": "3.6.13"
  }
 },
 "nbformat": 4,
 "nbformat_minor": 2
}
