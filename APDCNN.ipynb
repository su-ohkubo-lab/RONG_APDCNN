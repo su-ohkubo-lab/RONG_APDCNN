{
 "cells": [
  {
   "cell_type": "markdown",
   "metadata": {},
   "source": [
    "# Data collection"
   ]
  },
  {
   "cell_type": "code",
   "execution_count": 1,
   "metadata": {},
   "outputs": [],
   "source": [
    "import warnings\n",
    "warnings.filterwarnings(\"ignore\")"
   ]
  },
  {
   "cell_type": "code",
   "execution_count": 2,
   "metadata": {},
   "outputs": [],
   "source": [
    "import pandas as pd\n",
    "df=pd.read_csv(\"labeledTrainData.tsv\",sep=\"\\t\")\n",
    "\n",
    "df.columns=[\"i\",\"category\",\"content\"]\n",
    "\n",
    "df=df.dropna(subset=[\"category\",\"content\"])\n",
    "\n",
    "from nltk import word_tokenize     #tokenize words according to spaces\n",
    "\n",
    "\n",
    "df[\"category\"].value_counts()\n",
    "\n",
    "num_classes = len(df[\"category\"].unique())"
   ]
  },
  {
   "cell_type": "code",
   "execution_count": 3,
   "metadata": {},
   "outputs": [
    {
     "data": {
      "text/html": [
       "<div>\n",
       "<style scoped>\n",
       "    .dataframe tbody tr th:only-of-type {\n",
       "        vertical-align: middle;\n",
       "    }\n",
       "\n",
       "    .dataframe tbody tr th {\n",
       "        vertical-align: top;\n",
       "    }\n",
       "\n",
       "    .dataframe thead th {\n",
       "        text-align: right;\n",
       "    }\n",
       "</style>\n",
       "<table border=\"1\" class=\"dataframe\">\n",
       "  <thead>\n",
       "    <tr style=\"text-align: right;\">\n",
       "      <th></th>\n",
       "      <th>i</th>\n",
       "      <th>category</th>\n",
       "      <th>content</th>\n",
       "    </tr>\n",
       "  </thead>\n",
       "  <tbody>\n",
       "    <tr>\n",
       "      <th>0</th>\n",
       "      <td>5814_8</td>\n",
       "      <td>1</td>\n",
       "      <td>With all this stuff going down at the moment w...</td>\n",
       "    </tr>\n",
       "    <tr>\n",
       "      <th>1</th>\n",
       "      <td>2381_9</td>\n",
       "      <td>1</td>\n",
       "      <td>\\The Classic War of the Worlds\\\" by Timothy Hi...</td>\n",
       "    </tr>\n",
       "    <tr>\n",
       "      <th>2</th>\n",
       "      <td>7759_3</td>\n",
       "      <td>0</td>\n",
       "      <td>The film starts with a manager (Nicholas Bell)...</td>\n",
       "    </tr>\n",
       "    <tr>\n",
       "      <th>3</th>\n",
       "      <td>3630_4</td>\n",
       "      <td>0</td>\n",
       "      <td>It must be assumed that those who praised this...</td>\n",
       "    </tr>\n",
       "    <tr>\n",
       "      <th>4</th>\n",
       "      <td>9495_8</td>\n",
       "      <td>1</td>\n",
       "      <td>Superbly trashy and wondrously unpretentious 8...</td>\n",
       "    </tr>\n",
       "    <tr>\n",
       "      <th>...</th>\n",
       "      <td>...</td>\n",
       "      <td>...</td>\n",
       "      <td>...</td>\n",
       "    </tr>\n",
       "    <tr>\n",
       "      <th>24995</th>\n",
       "      <td>3453_3</td>\n",
       "      <td>0</td>\n",
       "      <td>It seems like more consideration has gone into...</td>\n",
       "    </tr>\n",
       "    <tr>\n",
       "      <th>24996</th>\n",
       "      <td>5064_1</td>\n",
       "      <td>0</td>\n",
       "      <td>I don't believe they made this film. Completel...</td>\n",
       "    </tr>\n",
       "    <tr>\n",
       "      <th>24997</th>\n",
       "      <td>10905_3</td>\n",
       "      <td>0</td>\n",
       "      <td>Guy is a loser. Can't get girls, needs to buil...</td>\n",
       "    </tr>\n",
       "    <tr>\n",
       "      <th>24998</th>\n",
       "      <td>10194_3</td>\n",
       "      <td>0</td>\n",
       "      <td>This 30 minute documentary Buñuel made in the ...</td>\n",
       "    </tr>\n",
       "    <tr>\n",
       "      <th>24999</th>\n",
       "      <td>8478_8</td>\n",
       "      <td>1</td>\n",
       "      <td>I saw this movie as a child and it broke my he...</td>\n",
       "    </tr>\n",
       "  </tbody>\n",
       "</table>\n",
       "<p>25000 rows × 3 columns</p>\n",
       "</div>"
      ],
      "text/plain": [
       "             i  category                                            content\n",
       "0       5814_8         1  With all this stuff going down at the moment w...\n",
       "1       2381_9         1  \\The Classic War of the Worlds\\\" by Timothy Hi...\n",
       "2       7759_3         0  The film starts with a manager (Nicholas Bell)...\n",
       "3       3630_4         0  It must be assumed that those who praised this...\n",
       "4       9495_8         1  Superbly trashy and wondrously unpretentious 8...\n",
       "...        ...       ...                                                ...\n",
       "24995   3453_3         0  It seems like more consideration has gone into...\n",
       "24996   5064_1         0  I don't believe they made this film. Completel...\n",
       "24997  10905_3         0  Guy is a loser. Can't get girls, needs to buil...\n",
       "24998  10194_3         0  This 30 minute documentary Buñuel made in the ...\n",
       "24999   8478_8         1  I saw this movie as a child and it broke my he...\n",
       "\n",
       "[25000 rows x 3 columns]"
      ]
     },
     "execution_count": 3,
     "metadata": {},
     "output_type": "execute_result"
    }
   ],
   "source": [
    "df"
   ]
  },
  {
   "cell_type": "markdown",
   "metadata": {},
   "source": [
    "# Tokenize："
   ]
  },
  {
   "cell_type": "code",
   "execution_count": 4,
   "metadata": {},
   "outputs": [],
   "source": [
    "import jieba\n",
    "sentence=[i.split(\" \") for i in df[\"content\"]]"
   ]
  },
  {
   "cell_type": "markdown",
   "metadata": {},
   "source": [
    "# Training word embedding with embedding size 128 and 10 epochs\n"
   ]
  },
  {
   "cell_type": "code",
   "execution_count": 5,
   "metadata": {},
   "outputs": [],
   "source": [
    "import pandas as pd\n",
    "import gensim\n",
    "# w2v_model = gensim.models.Word2Vec(sentence, size=128, iter=10, min_count=0)\n",
    "# word_vectors = w2v_model.wv\n",
    "# w2v_model.save(\"w2v\")\n",
    "w2v_model=gensim.models.Word2Vec.load(\"w2v\")"
   ]
  },
  {
   "cell_type": "code",
   "execution_count": 6,
   "metadata": {},
   "outputs": [
    {
     "name": "stderr",
     "output_type": "stream",
     "text": [
      "Using TensorFlow backend.\n"
     ]
    }
   ],
   "source": [
    "from keras.layers import *\n",
    "import numpy as np\n",
    "from keras.callbacks import EarlyStopping, ModelCheckpoint\n",
    "from keras.layers.merge import concatenate\n",
    "from keras.layers.embeddings import Embedding\n",
    "from keras.layers.normalization import BatchNormalization\n",
    "from keras.models import Model\n",
    "from keras import backend as K\n",
    "from keras.preprocessing.sequence import pad_sequences\n",
    "from keras.preprocessing.text import Tokenizer\n",
    "from sklearn.model_selection import StratifiedKFold\n",
    "from keras.utils.np_utils import to_categorical\n",
    "from sklearn.metrics import f1_score, classification_report\n",
    "from sklearn.model_selection import train_test_split\n",
    "import tensorflow as tf"
   ]
  },
  {
   "cell_type": "markdown",
   "metadata": {},
   "source": [
    "# Vectorize the texts, transfer label into onehot, pad zeros"
   ]
  },
  {
   "cell_type": "code",
   "execution_count": 7,
   "metadata": {},
   "outputs": [
    {
     "name": "stdout",
     "output_type": "stream",
     "text": [
      "Found 88582 unique tokens.\n"
     ]
    }
   ],
   "source": [
    "content=[]\n",
    "for j in sentence:\n",
    "    content+=j\n",
    "\n",
    "tokenizer = Tokenizer()\n",
    "tokenizer.fit_on_texts(content)  #transfer texts into vectors\n",
    "train_sequence = tokenizer.texts_to_sequences(sentence)\n",
    "MAX_SEQUENCE_LENGTH=128 # Maximum length of a sentence\n",
    "EMBEDDING_DIM = 128 \n",
    "y_train =df[\"category\"]\n",
    "y_train = to_categorical(y_train)  \n",
    "y_train = y_train.astype(np.int32)\n",
    "word_index = tokenizer.word_index\n",
    "print('Found %s unique tokens.' % len(word_index))\n",
    "train_pad = pad_sequences(train_sequence, maxlen=MAX_SEQUENCE_LENGTH) #pad zeros according to Maximum length"
   ]
  },
  {
   "cell_type": "code",
   "execution_count": 8,
   "metadata": {},
   "outputs": [
    {
     "data": {
      "text/plain": [
       "True"
      ]
     },
     "execution_count": 8,
     "metadata": {},
     "output_type": "execute_result"
    }
   ],
   "source": [
    "tf.test.is_gpu_available()"
   ]
  },
  {
   "cell_type": "code",
   "execution_count": 9,
   "metadata": {},
   "outputs": [],
   "source": [
    "embedding_matrix = np.zeros((len(word_index) + 1, EMBEDDING_DIM), dtype=np.float32)\n",
    "not_in_model = 0\n",
    "in_model = 0\n",
    "embedding_max_value = 0\n",
    "embedding_min_value = 1\n",
    "not_words = []\n",
    "\n",
    "for word, i in word_index.items():\n",
    "    if word in w2v_model:\n",
    "        in_model += 1\n",
    "        embedding_matrix[i] = np.array(w2v_model[word])\n",
    "        embedding_max_value = max(np.max(embedding_matrix[i]), embedding_max_value)\n",
    "        embedding_min_value = min(np.min(embedding_matrix[i]), embedding_min_value)\n",
    "    else:\n",
    "        not_in_model += 1\n",
    "        not_words.append(word)"
   ]
  },
  {
   "cell_type": "markdown",
   "metadata": {},
   "source": [
    "# Define a embedding layer"
   ]
  },
  {
   "cell_type": "code",
   "execution_count": 10,
   "metadata": {},
   "outputs": [],
   "source": [
    "embed = Embedding(len(word_index) + 1, EMBEDDING_DIM, weights=[embedding_matrix], input_length=MAX_SEQUENCE_LENGTH,\n",
    "\t\t\t\t  trainable=True)  "
   ]
  },
  {
   "cell_type": "markdown",
   "metadata": {},
   "source": [
    "# Divide the data for training and validation"
   ]
  },
  {
   "cell_type": "code",
   "execution_count": 11,
   "metadata": {},
   "outputs": [],
   "source": [
    "train_data, val_data, train_y, val_y = train_test_split(train_pad, y_train, test_size=0.2, random_state=43)"
   ]
  },
  {
   "cell_type": "markdown",
   "metadata": {},
   "source": [
    "# APDCNN"
   ]
  },
  {
   "cell_type": "code",
   "execution_count": 12,
   "metadata": {},
   "outputs": [
    {
     "name": "stdout",
     "output_type": "stream",
     "text": [
      "WARNING:tensorflow:From /home/rongyunpeng/Downloads/ENTER/envs/py3.6/lib/python3.6/site-packages/tensorflow/python/framework/op_def_library.py:263: colocate_with (from tensorflow.python.framework.ops) is deprecated and will be removed in a future version.\n",
      "Instructions for updating:\n",
      "Colocations handled automatically by placer.\n",
      "__________________________________________________________________________________________________\n",
      "Layer (type)                    Output Shape         Param #     Connected to                     \n",
      "==================================================================================================\n",
      "input_1 (InputLayer)            (None, 128)          0                                            \n",
      "__________________________________________________________________________________________________\n",
      "embedding_1 (Embedding)         (None, 128, 128)     11338624    input_1[0][0]                    \n",
      "__________________________________________________________________________________________________\n",
      "convolution_1d_layer1 (Conv1D)  (None, 128, 64)      24640       embedding_1[0][0]                \n",
      "__________________________________________________________________________________________________\n",
      "lstm_1 (LSTM)                   (None, 128, 64)      49408       embedding_1[0][0]                \n",
      "__________________________________________________________________________________________________\n",
      "lambda_1 (Lambda)               (None, 64)           0           lstm_1[0][0]                     \n",
      "                                                                 convolution_1d_layer1[0][0]      \n",
      "__________________________________________________________________________________________________\n",
      "lambda_2 (Lambda)               (None, 64)           0           lstm_1[0][0]                     \n",
      "                                                                 convolution_1d_layer1[0][0]      \n",
      "__________________________________________________________________________________________________\n",
      "lambda_3 (Lambda)               (None, 64)           0           lambda_1[0][0]                   \n",
      "                                                                 lambda_2[0][0]                   \n",
      "__________________________________________________________________________________________________\n",
      "activation_1 (Activation)       (None, 64)           0           lambda_3[0][0]                   \n",
      "__________________________________________________________________________________________________\n",
      "multiply_1 (Multiply)           (None, 128, 64)      0           convolution_1d_layer1[0][0]      \n",
      "                                                                 activation_1[0][0]               \n",
      "__________________________________________________________________________________________________\n",
      "concatenate_1 (Concatenate)     (None, 128, 128)     0           multiply_1[0][0]                 \n",
      "                                                                 lstm_1[0][0]                     \n",
      "__________________________________________________________________________________________________\n",
      "flatten_1 (Flatten)             (None, 16384)        0           concatenate_1[0][0]              \n",
      "__________________________________________________________________________________________________\n",
      "dense_1 (Dense)                 (None, 100)          1638500     flatten_1[0][0]                  \n",
      "__________________________________________________________________________________________________\n",
      "dense_2 (Dense)                 (None, 2)            202         dense_1[0][0]                    \n",
      "==================================================================================================\n",
      "Total params: 13,051,374\n",
      "Trainable params: 13,051,374\n",
      "Non-trainable params: 0\n",
      "__________________________________________________________________________________________________\n"
     ]
    }
   ],
   "source": [
    "def get_attentionpool_model(Embedding):\n",
    "    inputs_sentence = Input(shape=(MAX_SEQUENCE_LENGTH,))  # input layer\n",
    "    sentence =(Embedding(inputs_sentence))  #word embedding layer\n",
    "    s = LSTM(64, return_sequences=True)(sentence)  # lstm layer\n",
    "    c = Conv1D(64,3,dilation_rate=3,strides=1, padding='same',name=\"convolution_1d_layer1\")(sentence)\n",
    "    #c = Conv1D(128,3,strides=1, padding='same',name=\"convolution_1d_layer1\")(sentence)\n",
    "    molecular = Lambda(lambda x: K.abs(K.sum(x[0] * x[1], axis=1, keepdims=False)))([s, c])\n",
    "    denominator = Lambda(lambda x: K.sqrt(K.sum(K.square(x[0]), axis=1, keepdims=False)) * K.sqrt(\n",
    "    K.sum(K.square(x[1]), axis=1, keepdims=False)))(\n",
    "    [s, c])\n",
    "    e = Lambda(lambda x: x[0] / x[1])([molecular, denominator])\n",
    "\n",
    "    out=Activation(\"softmax\")(e)\n",
    "\n",
    "    s1 = Multiply()([c, out])\n",
    "\n",
    "    allvec=concatenate([s1,s],axis=-1)\n",
    "\n",
    "    atten = Flatten()(allvec)\n",
    "    x = Dense(100, activation='relu')(atten) # dense layer\n",
    "\n",
    "    output = Dense(2, activation='softmax')(x)  #softmax层\n",
    "    model = Model(inputs=[inputs_sentence], outputs=output)\n",
    "    model.compile(loss='categorical_crossentropy', optimizer='adam', metrics=['accuracy']) #Loss function，optimazation，standard\n",
    "    model.summary()\n",
    "    return model\n",
    "model=get_attentionpool_model(embed)"
   ]
  },
  {
   "cell_type": "code",
   "execution_count": 13,
   "metadata": {
    "scrolled": true
   },
   "outputs": [
    {
     "name": "stdout",
     "output_type": "stream",
     "text": [
      "WARNING:tensorflow:From /home/rongyunpeng/Downloads/ENTER/envs/py3.6/lib/python3.6/site-packages/tensorflow/python/ops/math_ops.py:3066: to_int32 (from tensorflow.python.ops.math_ops) is deprecated and will be removed in a future version.\n",
      "Instructions for updating:\n",
      "Use tf.cast instead.\n",
      "Train on 20000 samples, validate on 5000 samples\n",
      "Epoch 1/10\n",
      "20000/20000 [==============================] - 16s 777us/step - loss: 0.4796 - acc: 0.7651 - val_loss: 0.3910 - val_acc: 0.8302\n",
      "Epoch 2/10\n",
      "20000/20000 [==============================] - 14s 700us/step - loss: 0.2803 - acc: 0.8819 - val_loss: 0.3840 - val_acc: 0.8422\n",
      "Epoch 3/10\n",
      "20000/20000 [==============================] - 14s 705us/step - loss: 0.1177 - acc: 0.9565 - val_loss: 0.4529 - val_acc: 0.8356\n",
      "Epoch 4/10\n",
      "20000/20000 [==============================] - 14s 706us/step - loss: 0.0229 - acc: 0.9937 - val_loss: 0.6431 - val_acc: 0.8388\n",
      "Epoch 5/10\n",
      "20000/20000 [==============================] - 15s 742us/step - loss: 0.0029 - acc: 0.9999 - val_loss: 0.8115 - val_acc: 0.8356\n",
      "Epoch 6/10\n",
      "20000/20000 [==============================] - 13s 670us/step - loss: 4.7355e-04 - acc: 1.0000 - val_loss: 0.9072 - val_acc: 0.8386\n",
      "Epoch 7/10\n",
      "20000/20000 [==============================] - 13s 650us/step - loss: 1.8576e-04 - acc: 1.0000 - val_loss: 0.9588 - val_acc: 0.8382\n",
      "Epoch 8/10\n",
      "20000/20000 [==============================] - 13s 671us/step - loss: 1.1352e-04 - acc: 1.0000 - val_loss: 0.9933 - val_acc: 0.8384\n",
      "Epoch 9/10\n",
      "20000/20000 [==============================] - 13s 637us/step - loss: 7.8323e-05 - acc: 1.0000 - val_loss: 1.0208 - val_acc: 0.8394\n",
      "Epoch 10/10\n",
      "20000/20000 [==============================] - 13s 636us/step - loss: 5.7972e-05 - acc: 1.0000 - val_loss: 1.0428 - val_acc: 0.8396\n",
      "0:02:18.968454\n"
     ]
    }
   ],
   "source": [
    "import datetime\n",
    "starttime = datetime.datetime.now()\n",
    "\n",
    "callbacks = [EarlyStopping(monitor='val_acc', min_delta=0.001, patience=10),\n",
    "\t\t\t ModelCheckpoint(\"model/APDCNN.hdf5\", monitor='val_acc',\n",
    "\t\t\t\t\t\t\t mode='max', verbose=0, save_best_only=True,save_weights_only=True)]   \n",
    "\n",
    "history = model.fit(train_data, train_y, batch_size=128, epochs=10,validation_data=(val_data,val_y),callbacks=callbacks)\n",
    "\n",
    "endtime = datetime.datetime.now()\n",
    "print (endtime - starttime)"
   ]
  },
  {
   "cell_type": "code",
   "execution_count": 14,
   "metadata": {},
   "outputs": [
    {
     "data": {
      "image/png": "[encoded data removed]",
      "text/plain": [
       "<Figure size 432x288 with 1 Axes>"
      ]
     },
     "metadata": {
      "needs_background": "light"
     },
     "output_type": "display_data"
    },
    {
     "data": {
      "image/png": "[encoded data removed]",
      "text/plain": [
       "<Figure size 432x288 with 1 Axes>"
      ]
     },
     "metadata": {
      "needs_background": "light"
     },
     "output_type": "display_data"
    }
   ],
   "source": [
    "import matplotlib.pyplot as plt\n",
    "val_loss = history.history['val_loss']\n",
    "loss = history.history['loss']\n",
    "epochs = range(1, len(loss ) + 1)\n",
    "plt.title('Loss')\n",
    "plt.plot(epochs, loss, 'red', label='Training loss')\n",
    "plt.plot(epochs, val_loss, 'blue', label='Validation loss')\n",
    "plt.legend()\n",
    "plt.show()\n",
    "\n",
    "plt.cla()\n",
    "val_loss = history.history['val_acc']\n",
    "loss = history.history['acc']\n",
    "epochs = range(1, len(loss ) + 1)\n",
    " \n",
    "plt.title('acc')\n",
    "plt.plot(epochs, loss, 'red', label='Training acc')\n",
    "plt.plot(epochs, val_loss, 'blue', label='Validation acc')\n",
    "plt.legend()\n",
    "plt.show()"
   ]
  },
  {
   "cell_type": "markdown",
   "metadata": {},
   "source": [
    "# Evaluation"
   ]
  },
  {
   "cell_type": "code",
   "execution_count": 15,
   "metadata": {},
   "outputs": [
    {
     "name": "stdout",
     "output_type": "stream",
     "text": [
      "[[2177  366]\n",
      " [ 423 2034]]\n",
      "              precision    recall  f1-score   support\n",
      "\n",
      "           0     0.8373    0.8561    0.8466      2543\n",
      "           1     0.8475    0.8278    0.8376      2457\n",
      "\n",
      "    accuracy                         0.8422      5000\n",
      "   macro avg     0.8424    0.8420    0.8421      5000\n",
      "weighted avg     0.8423    0.8422    0.8421      5000\n",
      "\n"
     ]
    },
    {
     "data": {
      "image/png": "[encoded data removed]",
      "text/plain": [
       "<Figure size 432x288 with 2 Axes>"
      ]
     },
     "metadata": {},
     "output_type": "display_data"
    }
   ],
   "source": [
    "model.load_weights(\"model/APDCNN.hdf5\")\n",
    "def 给测试集输出指标(val_data,test_y):\n",
    "    testpre=model.predict([val_data])\n",
    "    ypre=np.argmax(testpre,axis=1)\n",
    "    ytrue=np.argmax(test_y,axis=1)\n",
    "\n",
    "\n",
    "    import seaborn as sns\n",
    "    from sklearn.metrics import confusion_matrix\n",
    "    import matplotlib.pyplot as plt\n",
    "    from sklearn.metrics import classification_report\n",
    "    def 混淆矩阵(valp,valy):\n",
    "        sns.set()\n",
    "        np.set_printoptions(suppress=True)\n",
    "        f,ax=plt.subplots()\n",
    "        valp=np.array(valp)\n",
    "        valy=np.array(valy)\n",
    "        C2= confusion_matrix(valy , valp, labels=list(range(len(set(df[\"category\"])))))\n",
    "        print(C2) #打印出来看看\n",
    "        sns.heatmap(C2,annot=True,ax=ax,fmt='.20g') #画热力图\n",
    "\n",
    "        ax.set_title('confusion matrix') #标题\n",
    "        ax.set_xlabel('predict') #x轴\n",
    "        ax.set_ylabel('true') #y轴\n",
    "\n",
    "    def 评价指标(val_data,val_y):\n",
    "        混淆矩阵(val_data,val_y)\n",
    "        print(classification_report(val_y,val_data,digits=4))\n",
    "    评价指标(ypre,ytrue)\n",
    "给测试集输出指标(val_data,val_y)"
   ]
  },
  {
   "cell_type": "code",
   "execution_count": null,
   "metadata": {},
   "outputs": [],
   "source": []
  }
 ],
 "metadata": {
  "kernelspec": {
   "display_name": "Python 3",
   "language": "python",
   "name": "python3"
  },
  "language_info": {
   "codemirror_mode": {
    "name": "ipython",
    "version": 3
   },
   "file_extension": ".py",
   "mimetype": "text/x-python",
   "name": "python",
   "nbconvert_exporter": "python",
   "pygments_lexer": "ipython3",
   "version": "3.6.13"
  }
 },
 "nbformat": 4,
 "nbformat_minor": 2
}
